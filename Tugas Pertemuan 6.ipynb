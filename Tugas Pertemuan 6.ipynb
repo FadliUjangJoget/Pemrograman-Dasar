{
  "cells": [
    {
      "cell_type": "markdown",
      "metadata": {
        "id": "view-in-github",
        "colab_type": "text"
      },
      "source": [
        "<a href=\"https://colab.research.google.com/github/FadliUjangJoget/Pemrograman-Dasar/blob/main/Tugas%20Pertemuan%206.ipynb\" target=\"_parent\"><img src=\"https://colab.research.google.com/assets/colab-badge.svg\" alt=\"Open In Colab\"/></a>"
      ]
    },
    {
      "cell_type": "markdown",
      "source": [
        "No.1"
      ],
      "metadata": {
        "id": "1zt4fUQKggwK"
      }
    },
    {
      "cell_type": "code",
      "source": [
        "def sapa_praktikan(nama):\n",
        "    \"\"\"Mencetak pesan sambutan dasar.\"\"\"\n",
        "    print(\"Sistem siap. Selamat datang kembali di sesi praktikum,\", nama + \"!\")\n",
        "\n",
        "\n",
        "def Biodata(nama, nim, jurusan, universitas, umur, tempat_lahir, tanggal_lahir):\n",
        "    \"\"\"Menampilkan biodata lengkap praktikan.\"\"\"\n",
        "    print(\"\\n=== BIODATA PRAKTIKAN ===\")\n",
        "    print(\"Nama          :\", nama)\n",
        "    print(\"NIM           :\", nim)\n",
        "    print(\"Jurusan       :\", jurusan)\n",
        "    print(\"Universitas   :\", universitas)\n",
        "    print(\"Umur          :\", umur)\n",
        "    print(\"Tempat Lahir  :\", tempat_lahir)\n",
        "    print(\"Tanggal Lahir :\", tanggal_lahir)\n",
        "    print(\"===========================\")\n",
        "\n",
        "\n",
        "sapa_praktikan(\"Muhammad Zaidan Fadli\")\n",
        "Biodata(\n",
        "    nama=\"Muhammad Zaidan Fadli\",\n",
        "    nim=\"4232411011\",\n",
        "    jurusan=\"Teknik Elektro\",\n",
        "    universitas=\"Politeknik Negeri Batam\",\n",
        "    umur=\"20\",\n",
        "    tempat_lahir=\"Serapuh\",\n",
        "    tanggal_lahir=\"26 Desember 2005\"\n",
        ")"
      ],
      "metadata": {
        "colab": {
          "base_uri": "https://localhost:8080/"
        },
        "id": "tLFW8rLBgmGL",
        "outputId": "b2475c45-dd1b-4ea7-dc7d-3dee77a8b441"
      },
      "execution_count": 3,
      "outputs": [
        {
          "output_type": "stream",
          "name": "stdout",
          "text": [
            "Sistem siap. Selamat datang kembali di sesi praktikum, Muhammad Zaidan Fadli!\n",
            "\n",
            "=== BIODATA PRAKTIKAN ===\n",
            "Nama          : Muhammad Zaidan Fadli\n",
            "NIM           : 4232411011\n",
            "Jurusan       : Teknik Elektro\n",
            "Universitas   : Politeknik Negeri Batam\n",
            "Umur          : 20\n",
            "Tempat Lahir  : Serapuh\n",
            "Tanggal Lahir : 26 Desember 2005\n",
            "===========================\n"
          ]
        }
      ]
    },
    {
      "cell_type": "markdown",
      "source": [
        "No.2"
      ],
      "metadata": {
        "id": "Sz2iIxWriJ3O"
      }
    },
    {
      "cell_type": "code",
      "source": [
        "def hitung_volume_balok(Panjang,Lebar,Tinggi):\n",
        "    \"\"\"Menghitung volume balok dari Panjang x lebar x tinggi.\"\"\"\n",
        "    return Panjang*Lebar*Tinggi\n",
        "\n",
        "# Pemanggilan:\n",
        "panjang = 5\n",
        "lebar = 10\n",
        "tinggi = 15\n",
        "print(f\"Volume balok dengan ukuran {panjang}x{lebar}x{tinggi} adalah: {hitung_volume_balok(panjang, lebar, tinggi)}\")\n",
        ""
      ],
      "metadata": {
        "colab": {
          "base_uri": "https://localhost:8080/"
        },
        "id": "zcE9iO43iL98",
        "outputId": "b1b36909-ac01-4925-891d-bfba37ad771f"
      },
      "execution_count": 4,
      "outputs": [
        {
          "output_type": "stream",
          "name": "stdout",
          "text": [
            "Volume balok dengan ukuran 5x10x15 adalah: 750\n"
          ]
        }
      ]
    },
    {
      "cell_type": "markdown",
      "source": [
        "No.3"
      ],
      "metadata": {
        "id": "Pn-g89PTi_T5"
      }
    },
    {
      "cell_type": "code",
      "source": [
        "def hitung_rata_rata(data_nilai):\n",
        "    \"\"\"Menghitung rata-rata dari list angka dengan validasi nilai.\"\"\"\n",
        "    total = 0\n",
        "    jumlah_data = 0\n",
        "\n",
        "    # Perulangan untuk menjumlahkan nilai\n",
        "    for nilai in data_nilai:\n",
        "        # Pengecekan nilai valid\n",
        "        if 0 <= nilai <= 100:\n",
        "            total += nilai\n",
        "            jumlah_data += 1\n",
        "        else:\n",
        "            print(f\"⚠️ Nilai {nilai} diabaikan (tidak valid).\")\n",
        "\n",
        "    # Pembagian untuk rata-rata\n",
        "    if jumlah_data > 0:\n",
        "        return total / jumlah_data\n",
        "    return 0\n",
        "\n",
        "# Pemanggilan:\n",
        "nilai_praktikan = [84, -5, 45, 72, 90, 67, 145]\n",
        "print(f\"Nilai rata-rata kelas adalah: {hitung_rata_rata(nilai_praktikan)}\")\n",
        ""
      ],
      "metadata": {
        "colab": {
          "base_uri": "https://localhost:8080/"
        },
        "id": "Ou4a9c9FjBZF",
        "outputId": "d86b7896-71a4-469b-eeb2-ee38e2ac9954"
      },
      "execution_count": 7,
      "outputs": [
        {
          "output_type": "stream",
          "name": "stdout",
          "text": [
            "⚠️ Nilai -5 diabaikan (tidak valid).\n",
            "⚠️ Nilai 145 diabaikan (tidak valid).\n",
            "Nilai rata-rata kelas adalah: 71.6\n"
          ]
        }
      ]
    },
    {
      "cell_type": "markdown",
      "source": [
        "No.4"
      ],
      "metadata": {
        "id": "R3cvpZZKku_2"
      }
    },
    {
      "cell_type": "code",
      "source": [
        "def tentukan_predikat(skor):\n",
        "    \"\"\"Menentukan predikat (A, B, C, D, E) berdasarkan skor.\"\"\"\n",
        "    if skor >= 85:\n",
        "        return \"A\"\n",
        "    elif skor >= 70:\n",
        "        return \"B\"\n",
        "    elif skor >= 60:\n",
        "        return \"C\"\n",
        "    elif skor >= 50:\n",
        "        return \"D\"\n",
        "    else:\n",
        "        return \"E\"\n",
        "\n",
        "# Pemanggilan:\n",
        "print(f\"Skor 82 mendapat predikat: {tentukan_predikat(82)}\")\n",
        "print(f\"Skor 95 mendapat predikat: {tentukan_predikat(95)}\")"
      ],
      "metadata": {
        "colab": {
          "base_uri": "https://localhost:8080/"
        },
        "id": "oQcsqid1kxxo",
        "outputId": "343a4cf6-85ab-4582-873b-21137169630b"
      },
      "execution_count": 11,
      "outputs": [
        {
          "output_type": "stream",
          "name": "stdout",
          "text": [
            "Skor 82 mendapat predikat: B\n",
            "Skor 95 mendapat predikat: A\n"
          ]
        }
      ]
    },
    {
      "cell_type": "markdown",
      "source": [
        "No.5"
      ],
      "metadata": {
        "id": "KEuLLcc4mAXL"
      }
    },
    {
      "cell_type": "code",
      "source": [
        "def hitung_faktorial(n):\n",
        "    \"\"\"Menghitung faktorial dari bilangan positif n.\"\"\"\n",
        "\n",
        "    if n < 0:\n",
        "      return \"Error: Faktorial tidak terdefinisi untuk bilangan negatif.\"\n",
        "    if n == 0:\n",
        "      return 1\n",
        "\n",
        "    hasil = 1\n",
        "\n",
        "    # Perulangan berjalan selama n lebih besar dari 1\n",
        "    while n > 1:\n",
        "        hasil *= n\n",
        "        n -= 1  # Kurangi n\n",
        "    return hasil\n",
        "\n",
        "# Pemanggilan:\n",
        "bilangan_n = 4\n",
        "print(f\"Faktorial dari 5 adalah: {hitung_faktorial(5)}\")\n",
        "print(f\"Faktorial dari 0 adalah: {hitung_faktorial(0)}\")\n",
        "print(f\"Faktorial dari -6 adalah: {hitung_faktorial(-6)}\")"
      ],
      "metadata": {
        "colab": {
          "base_uri": "https://localhost:8080/"
        },
        "id": "AwWbQPjNmD0E",
        "outputId": "19656b41-22d8-463e-c1f4-89c552db1921"
      },
      "execution_count": 16,
      "outputs": [
        {
          "output_type": "stream",
          "name": "stdout",
          "text": [
            "Faktorial dari 5 adalah: 120\n",
            "Faktorial dari 0 adalah: 1\n",
            "Faktorial dari -6 adalah: Error: Faktorial tidak terdefinisi untuk bilangan negatif.\n"
          ]
        }
      ]
    },
    {
      "cell_type": "markdown",
      "source": [
        "No.6"
      ],
      "metadata": {
        "id": "4xQDuy7-n_79"
      }
    },
    {
      "cell_type": "code",
      "source": [
        "def analisis_suhu(data_suhu, batas_panas=35, batas_dingin=15):\n",
        "    \"\"\"Menghitung jumlah hari Panas dan Dingin dari data_suhu.\"\"\"\n",
        "    panas_count = 0\n",
        "    dingin_count = 0\n",
        "\n",
        "    for suhu in data_suhu:\n",
        "        if suhu >= batas_panas:\n",
        "            panas_count += 1\n",
        "        elif suhu <= batas_dingin:\n",
        "            dingin_count += 1\n",
        "\n",
        "    return panas_count, dingin_count\n",
        "\n",
        "# Pemanggilan:\n",
        "suhu_mingguan = [38, 45, 12, 22, 36, 18, 27]\n",
        "jumlah_panas, jumlah_dingin = analisis_suhu(suhu_mingguan)\n",
        "print(f\"Jumlah hari Panas (>=35°C): {jumlah_panas}\")\n",
        "print(f\"Jumlah hari Dingin (<=15°C): {jumlah_dingin}\")\n",
        "jumlah_panas2, jumlah_dingin2 = analisis_suhu(suhu_mingguan, batas_panas=33, batas_dingin=18)\n",
        "print(\"\\nDengan batas disesuaikan:\")\n",
        "print(f\"Jumlah hari Panas (>=33°C): {jumlah_panas2}\")\n",
        "print(f\"Jumlah hari Dingin (<=18°C): {jumlah_dingin2}\")"
      ],
      "metadata": {
        "colab": {
          "base_uri": "https://localhost:8080/"
        },
        "id": "Ly0iWJMzoCFQ",
        "outputId": "2905fb84-6f09-41f5-ffb7-26e4b9b860ab"
      },
      "execution_count": 17,
      "outputs": [
        {
          "output_type": "stream",
          "name": "stdout",
          "text": [
            "Jumlah hari Panas (>=35°C): 3\n",
            "Jumlah hari Dingin (<=15°C): 1\n",
            "\n",
            "Dengan batas disesuaikan:\n",
            "Jumlah hari Panas (>=33°C): 3\n",
            "Jumlah hari Dingin (<=18°C): 2\n"
          ]
        }
      ]
    }
  ],
  "metadata": {
    "colab": {
      "provenance": [],
      "authorship_tag": "ABX9TyNnoL/cSQtvjyyWIdPzVbvN",
      "include_colab_link": true
    },
    "kernelspec": {
      "display_name": "Python 3",
      "name": "python3"
    },
    "language_info": {
      "name": "python"
    }
  },
  "nbformat": 4,
  "nbformat_minor": 0
}