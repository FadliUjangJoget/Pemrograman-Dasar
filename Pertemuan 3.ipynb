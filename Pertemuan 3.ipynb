{
  "cells": [
    {
      "cell_type": "markdown",
      "metadata": {
        "id": "view-in-github",
        "colab_type": "text"
      },
      "source": [
        "<a href=\"https://colab.research.google.com/github/FadliUjangJoget/Pemrograman-Dasar/blob/main/Pertemuan%203.ipynb\" target=\"_parent\"><img src=\"https://colab.research.google.com/assets/colab-badge.svg\" alt=\"Open In Colab\"/></a>"
      ]
    },
    {
      "cell_type": "code",
      "source": [
        "\n",
        "\n",
        "total = int(input(\"berapa porsi makan yang anda beli ? : \"))\n",
        "nama = str(input(\"siapa nama pelanggan : ? \"))\n",
        "\n",
        "\n"
      ],
      "metadata": {
        "colab": {
          "base_uri": "https://localhost:8080/"
        },
        "id": "jGYIw3xtE4Y-",
        "outputId": "3abab032-fc74-4acb-96d2-9b4d786b0b17"
      },
      "execution_count": 1,
      "outputs": [
        {
          "name": "stdout",
          "output_type": "stream",
          "text": [
            "berapa porsi makan yang anda beli ? : 12\n",
            "siapa nama pelanggan : ? ujang\n"
          ]
        }
      ]
    },
    {
      "cell_type": "code",
      "source": [
        "total = float(input(\"Berapa porsi makan yang Anda beli? : \"))\n",
        "Nama  = str(input(\"Siapa Nama Pelanggan? : \"))\n",
        "\n",
        "print(\"Nama Pelanggan :\", Nama)\n",
        "print(\"Jumlah Porsi   :\", total)"
      ],
      "metadata": {
        "colab": {
          "base_uri": "https://localhost:8080/"
        },
        "id": "6HBHhnJKMzaU",
        "outputId": "b160ad02-e4d8-48ae-b808-4c08545fd8b4"
      },
      "execution_count": 2,
      "outputs": [
        {
          "output_type": "stream",
          "name": "stdout",
          "text": [
            "Berapa porsi makan yang Anda beli? : 11\n",
            "Siapa Nama Pelanggan? : ujang\n",
            "Nama Pelanggan : ujang\n",
            "Jumlah Porsi   : 11.0\n"
          ]
        }
      ]
    },
    {
      "cell_type": "code",
      "source": [
        "food = \"Mi ayam bakso\"\n",
        "print(\"Hendi sedang memesan\", food)\n",
        "\n",
        "food = \"Mi ayam bakso\"\n",
        "print(\"Hendi sedang memesan\", food)\n",
        "print(\"Hendi sedang memesan \" + food)\n",
        "print(\"Hendi sedang memesan %s\" % (food))"
      ],
      "metadata": {
        "colab": {
          "base_uri": "https://localhost:8080/"
        },
        "id": "ZHRYXLP1TWHO",
        "outputId": "bf463638-6512-4f42-c847-ac0fb063f384"
      },
      "execution_count": 3,
      "outputs": [
        {
          "output_type": "stream",
          "name": "stdout",
          "text": [
            "Hendi sedang memesan Mi ayam bakso\n",
            "Hendi sedang memesan Mi ayam bakso\n",
            "Hendi sedang memesan Mi ayam bakso\n",
            "Hendi sedang memesan Mi ayam bakso\n"
          ]
        }
      ]
    },
    {
      "cell_type": "code",
      "source": [
        "# Integer (%d)\n",
        "jumlah = 7\n",
        "print(\"Jumlah porsi yang dipesan adalah %d\" % (jumlah))\n",
        "\n",
        "# Float (%f)\n",
        "harga = 11\n",
        "print(\"Harga per porsi adalah %f\" % (harga))\n",
        "print(\"Harga per porsi (2 angka di belakang koma) %.2f\" % (harga))\n",
        "\n",
        "# String (%s)\n",
        "makanan = \"Mi Ayam Bakso\"\n",
        "print(\"Menu yang dipesan adalah %s\" % (makanan))\n",
        "\n",
        "# Hexadecimal (%x)\n",
        "angka_hex = 255\n",
        "print(\"Angka %d dalam hexadecimal adalah %x\" % (angka_hex, angka_hex))\n",
        "\n",
        "# Octal (%o)\n",
        "angka_oktal = 11\n",
        "print(\"Angka %d dalam octal adalah %o\" % (angka_oktal, angka_oktal))"
      ],
      "metadata": {
        "colab": {
          "base_uri": "https://localhost:8080/"
        },
        "id": "qvAWRyf2TftJ",
        "outputId": "1b96460f-00c8-41b1-c1c3-96860434847d"
      },
      "execution_count": 5,
      "outputs": [
        {
          "output_type": "stream",
          "name": "stdout",
          "text": [
            "Jumlah porsi yang dipesan adalah 7\n",
            "Harga per porsi adalah 11.000000\n",
            "Harga per porsi (2 angka di belakang koma) 11.00\n",
            "Menu yang dipesan adalah Mi Ayam Bakso\n",
            "Angka 255 dalam hexadecimal adalah ff\n",
            "Angka 11 dalam octal adalah 13\n"
          ]
        }
      ]
    },
    {
      "cell_type": "code",
      "source": [
        "# Contoh input dan output\n",
        "a = 12\n",
        "b = 6\n",
        "print(\"Penjumlahan:\", a + b)\n",
        "print(\"Pengurangan:\", a - b)\n",
        "print(\"Perkalian:\", a * b)\n",
        "print(\"Pembagian:\", a / b)\n",
        "\n",
        "\n",
        "# Kalkulator kasir\n",
        "harga_makan = int(input(\"Berapa harga mi ayam per porsi? \"))\n",
        "jumlah_makan = int(input(\"Berapa porsi yang Anda beli? \"))\n",
        "total_makan = harga_makan * jumlah_makan\n",
        "\n",
        "print(f\"Harga makan per porsi = {harga_makan}, totalnya adalah {total_makan}\")\n",
        "\n",
        "\n",
        "# Mengecek bilangan\n",
        "bilangan = 7\n",
        "hasil = (bilangan > 0) and (bilangan % 2 == 0)\n",
        "print(\"Genap dan positif?\", hasil)\n"
      ],
      "metadata": {
        "colab": {
          "base_uri": "https://localhost:8080/"
        },
        "id": "6SaFR8QXTzyH",
        "outputId": "7e6d4f58-f0dd-493b-f899-d2ee6e3b33af"
      },
      "execution_count": 7,
      "outputs": [
        {
          "output_type": "stream",
          "name": "stdout",
          "text": [
            "Penjumlahan: 18\n",
            "Pengurangan: 6\n",
            "Perkalian: 72\n",
            "Pembagian: 2.0\n",
            "Berapa harga mi ayam per porsi? 11000\n",
            "Berapa porsi yang Anda beli? 5\n",
            "Harga makan per porsi = 11000, totalnya adalah 55000\n",
            "Genap dan positif? False\n"
          ]
        }
      ]
    },
    {
      "cell_type": "code",
      "source": [
        "#konversi waktu\n",
        "total_detik = 1500\n",
        "jam = total_detik // 3600\n",
        "sisa_detik = total_detik % 3600\n",
        "menit = sisa_detik // 6\n",
        "detik = sisa_detik % 60\n",
        "print(f\"Hasil Konversi: {jam} Jam, {menit} Menit, {detik} Detik\")\n"
      ],
      "metadata": {
        "colab": {
          "base_uri": "https://localhost:8080/"
        },
        "id": "cbdxA1_eUWjd",
        "outputId": "bacaabbb-1095-43f9-ce95-07d097db312a"
      },
      "execution_count": 12,
      "outputs": [
        {
          "output_type": "stream",
          "name": "stdout",
          "text": [
            "Hasil Konversi: 0 Jam, 250 Menit, 0 Detik\n"
          ]
        }
      ]
    },
    {
      "cell_type": "code",
      "source": [
        "# Konversi Waktu: Total Detik → Jam:Menit:Detik\n",
        "\n",
        "# Menerima input dari keyboard\n",
        "total_detik = int(input(\"Masukkan total detik: \"))\n",
        "\n",
        "# Hitung jam\n",
        "jam = total_detik // 1500\n",
        "sisa_detik = total_detik % 3600\n",
        "\n",
        "# Hitung menit\n",
        "menit = sisa_detik // 60\n",
        "\n",
        "# Hitung detik\n",
        "detik = sisa_detik % 60\n",
        "\n",
        "# Output hasil\n",
        "print(f\"Hasil Konversi: {jam} Jam, {menit} Menit, {detik} Detik\")\n"
      ],
      "metadata": {
        "colab": {
          "base_uri": "https://localhost:8080/"
        },
        "id": "H5NpHg7AUkNY",
        "outputId": "a618ce24-039e-4b00-95d4-96d10d335fcb"
      },
      "execution_count": 11,
      "outputs": [
        {
          "output_type": "stream",
          "name": "stdout",
          "text": [
            "Masukkan total detik: 1500\n",
            "Hasil Konversi: 1 Jam, 25 Menit, 0 Detik\n"
          ]
        }
      ]
    },
    {
      "cell_type": "code",
      "source": [
        "tugas = 75\n",
        "uts = 65\n",
        "uas = 85\n",
        "nilai_akhir = (0.3 * tugas) + (0.3 * uts) + (0.4 * uas)\n",
        "print(\"Nilai akhir =\", nilai_akhir)\n"
      ],
      "metadata": {
        "colab": {
          "base_uri": "https://localhost:8080/"
        },
        "id": "zUk15DKSVIsS",
        "outputId": "14efe23a-831a-4f8e-a315-16d15385529f"
      },
      "execution_count": 14,
      "outputs": [
        {
          "output_type": "stream",
          "name": "stdout",
          "text": [
            "Nilai akhir = 76.0\n"
          ]
        }
      ]
    },
    {
      "cell_type": "code",
      "source": [
        "nilai_mahasiswa = 76\n",
        "standar_kelulusan = 75\n",
        "apakah_lulus = nilai_mahasiswa >= standar_kelulusan\n",
        "perlu_remedial = nilai_mahasiswa < standar_kelulusan\n",
        "print(f\"Nilai Mahasiswa: {nilai_mahasiswa}\")\n",
        "print(f\"Standar Kelulusan: {standar_kelulusan}\")\n",
        "print(f\"Apakah Mahasiswa Lulus? {apakah_lulus}\")\n",
        "print(f\"Perlu Remedial? {perlu_remedial}\")"
      ],
      "metadata": {
        "colab": {
          "base_uri": "https://localhost:8080/"
        },
        "id": "AvjpgYmiVSSC",
        "outputId": "34e59114-77ea-4f02-aac0-b30d0f0d3700"
      },
      "execution_count": 16,
      "outputs": [
        {
          "output_type": "stream",
          "name": "stdout",
          "text": [
            "Nilai Mahasiswa: 76\n",
            "Standar Kelulusan: 75\n",
            "Apakah Mahasiswa Lulus? True\n",
            "Perlu Remedial? False\n"
          ]
        }
      ]
    },
    {
      "cell_type": "code",
      "source": [
        "# Program Menghitung Nilai Akhir Mahasiswa\n",
        "\n",
        "# Input nilai dari keyboard\n",
        "tugas1 = float(input(\"Masukkan nilai Tugas 1: \"))\n",
        "tugas2 = float(input(\"Masukkan nilai Tugas 2: \"))\n",
        "tugas3 = float(input(\"Masukkan nilai Tugas 3: \"))\n",
        "uts = float(input(\"Masukkan nilai UTS: \"))\n",
        "uas = float(input(\"Masukkan nilai UAS: \"))\n",
        "\n",
        "# Hitung nilai akhir (misal bobot: tugas 30%, uts 30%, uas 40%)\n",
        "rata_tugas = (tugas1 + tugas2 + tugas3) / 3\n",
        "nilai_akhir = (0.3 * rata_tugas) + (0.3 * uts) + (0.4 * uas)\n",
        "\n",
        "print(\"\\n=== HASIL PERHITUNGAN NILAI AKHIR ===\")\n",
        "print(\"Rata-rata Tugas =\", rata_tugas)\n",
        "print(\"Nilai Akhir =\", nilai_akhir)\n",
        "\n",
        "# Input standar kelulusan\n",
        "standar_kelulusan = float(input(\"\\nMasukkan standar kelulusan: \"))\n",
        "\n",
        "# Pengecekan lulus atau remedial\n",
        "apakah_lulus = nilai_akhir >= standar_kelulusan\n",
        "perlu_remedial = nilai_akhir < standar_kelulusan\n",
        "\n",
        "print(f\"Nilai Mahasiswa: {nilai_akhir}\")\n",
        "print(f\"Standar Kelulusan: {standar_kelulusan}\")\n",
        "print(f\"Apakah Mahasiswa Lulus? {apakah_lulus}\")\n",
        "print(f\"Perlu Remedial? {perlu_remedial}\")\n"
      ],
      "metadata": {
        "colab": {
          "base_uri": "https://localhost:8080/"
        },
        "id": "e5aMMU5MVokr",
        "outputId": "9e26fcc2-6630-4f5b-dbe3-90024c5d259c"
      },
      "execution_count": 17,
      "outputs": [
        {
          "output_type": "stream",
          "name": "stdout",
          "text": [
            "Masukkan nilai Tugas 1: 80\n",
            "Masukkan nilai Tugas 2: 75\n",
            "Masukkan nilai Tugas 3: 85\n",
            "Masukkan nilai UTS: 85\n",
            "Masukkan nilai UAS: 75\n",
            "\n",
            "=== HASIL PERHITUNGAN NILAI AKHIR ===\n",
            "Rata-rata Tugas = 80.0\n",
            "Nilai Akhir = 79.5\n",
            "\n",
            "Masukkan standar kelulusan: 75\n",
            "Nilai Mahasiswa: 79.5\n",
            "Standar Kelulusan: 75.0\n",
            "Apakah Mahasiswa Lulus? True\n",
            "Perlu Remedial? False\n"
          ]
        }
      ]
    },
    {
      "cell_type": "code",
      "source": [
        "belanja = 750000\n",
        "diskon = (0, 0.1 * belanja)[belanja > 500000]\n",
        "total_harga = belanja - diskon\n",
        "print(\"Total harga setelah diskon =\", total_harga)"
      ],
      "metadata": {
        "colab": {
          "base_uri": "https://localhost:8080/"
        },
        "id": "i3uYDXWjV6CW",
        "outputId": "7a1f0708-dd56-4555-d91c-65ee3af197b6"
      },
      "execution_count": 18,
      "outputs": [
        {
          "output_type": "stream",
          "name": "stdout",
          "text": [
            "Total harga setelah diskon = 675000.0\n"
          ]
        }
      ]
    },
    {
      "cell_type": "code",
      "source": [
        "# Program Menghitung Total Harga Setelah Diskon\n",
        "\n",
        "# Input belanja via keyboard\n",
        "belanja = int(input(\"Masukkan total belanja: \"))\n",
        "\n",
        "# Hitung diskon\n",
        "if belanja > 1100000:\n",
        "    diskon = 0.35 * belanja   # diskon 35%\n",
        "elif belanja > 500000:\n",
        "    diskon = 0.10 * belanja   # diskon 10%\n",
        "else:\n",
        "    diskon = 0                # tidak ada diskon\n",
        "\n",
        "# Hitung total harga setelah diskon\n",
        "total_harga = belanja - diskon\n",
        "\n",
        "# Output hasil\n",
        "print(f\"Total belanja = {belanja}\")\n",
        "print(f\"Diskon = {diskon}\")\n",
        "print(f\"Total harga setelah diskon = {total_harga}\")"
      ],
      "metadata": {
        "colab": {
          "base_uri": "https://localhost:8080/"
        },
        "id": "iNYnChduWFE1",
        "outputId": "2a4d00f1-dc98-4156-bfb9-00091850e525"
      },
      "execution_count": 20,
      "outputs": [
        {
          "output_type": "stream",
          "name": "stdout",
          "text": [
            "Masukkan total belanja: 110000\n",
            "Total belanja = 110000\n",
            "Diskon = 0\n",
            "Total harga setelah diskon = 110000\n"
          ]
        }
      ]
    }
  ],
  "metadata": {
    "colab": {
      "toc_visible": true,
      "provenance": [],
      "authorship_tag": "ABX9TyO/iCw9MpAPmKy1yq3j30c5",
      "include_colab_link": true
    },
    "kernelspec": {
      "display_name": "Python 3",
      "name": "python3"
    },
    "language_info": {
      "name": "python"
    }
  },
  "nbformat": 4,
  "nbformat_minor": 0
}