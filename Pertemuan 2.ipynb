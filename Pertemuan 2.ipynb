{
  "cells": [
    {
      "cell_type": "markdown",
      "metadata": {
        "id": "view-in-github",
        "colab_type": "text"
      },
      "source": [
        "<a href=\"https://colab.research.google.com/github/FadliUjangJoget/Pemrograman-Dasar/blob/main/Pertemuan%202.ipynb\" target=\"_parent\"><img src=\"https://colab.research.google.com/assets/colab-badge.svg\" alt=\"Open In Colab\"/></a>"
      ]
    },
    {
      "cell_type": "code",
      "execution_count": null,
      "metadata": {
        "colab": {
          "base_uri": "https://localhost:8080/"
        },
        "id": "z1ZFBY_SFDJ_",
        "outputId": "27daa6a6-e9e6-4f5c-d8af-909f34311cff"
      },
      "outputs": [
        {
          "name": "stdout",
          "output_type": "stream",
          "text": [
            "muhammad zaidan\n",
            "fadli\n",
            "20\n",
            "False\n"
          ]
        }
      ],
      "source": [
        "#data diri\n",
        "firstName = \"muhammad zaidan\"\n",
        "lastName = \"fadli\"\n",
        "age = 20\n",
        "isMarried = False\n",
        "\n",
        "print (firstName)\n",
        "print (lastName)\n",
        "print (age)\n",
        "print (isMarried)"
      ]
    },
    {
      "cell_type": "code",
      "execution_count": null,
      "metadata": {
        "colab": {
          "base_uri": "https://localhost:8080/"
        },
        "id": "aJRLItagIRGe",
        "outputId": "549db0d3-c1cb-4f6d-9c45-ccea137ee9e6"
      },
      "outputs": [
        {
          "name": "stdout",
          "output_type": "stream",
          "text": [
            "{'firstName': 'muhammad zaidan', 'lastName': 'fadli', 'age': 20, 'isMarried': False}\n"
          ]
        }
      ],
      "source": [
        "#data diri dengan dictionary\n",
        "datadiri = {\"firstName\": \"muhammad zaidan\", \"lastName\": \"fadli\", \"age\": 20, \"isMarried\": False}\n",
        "print (datadiri)"
      ]
    },
    {
      "cell_type": "code",
      "execution_count": 8,
      "metadata": {
        "colab": {
          "base_uri": "https://localhost:8080/"
        },
        "id": "NG97lY1YNSwG",
        "outputId": "a2865087-ed01-4bc9-ba4a-9fe2a83b8a24"
      },
      "outputs": [
        {
          "output_type": "stream",
          "name": "stdout",
          "text": [
            "['pemahaman terhadap rencana dan desain', 'ketersediaan bahan dan peralatan', 'pengawasan pekerjaan', 'kualitas konstruksi', 'keselamatan kerja', 'koordinasi dengan pemilik proyek']\n"
          ]
        }
      ],
      "source": [
        "inspeksi = [\"pemahaman terhadap rencana dan desain\",\"ketersediaan bahan dan peralatan\",\"pengawasan pekerjaan\",\"kualitas konstruksi\",\"keselamatan kerja\",\"koordinasi dengan pemilik proyek\"]\n",
        "\n",
        "print (inspeksi)\n"
      ]
    },
    {
      "cell_type": "code",
      "source": [
        "# waktu datang (startTime)\n",
        "startTime = {\n",
        "    \"HH\": 9,\n",
        "    \"mm\": 23,\n",
        "    \"ss\": 57\n",
        "}\n",
        "\n",
        "# waktu pulang (endTime)\n",
        "endTime = {\n",
        "    \"HH\": 15,\n",
        "    \"mm\": 25,\n",
        "    \"ss\": 43\n",
        "}\n",
        "\n",
        "\n",
        "print(\"Waktu Datang (startTime):\", startTime)\n",
        "print(\"Waktu Pulang (endTime):\", endTime)\n"
      ],
      "metadata": {
        "colab": {
          "base_uri": "https://localhost:8080/"
        },
        "id": "a0Y_v8fUYGUq",
        "outputId": "50aedac2-a1e6-4114-f207-7f974a7e0f51"
      },
      "execution_count": 9,
      "outputs": [
        {
          "output_type": "stream",
          "name": "stdout",
          "text": [
            "Waktu Datang (startTime): {'HH': 9, 'mm': 23, 'ss': 57}\n",
            "Waktu Pulang (endTime): {'HH': 15, 'mm': 25, 'ss': 43}\n"
          ]
        }
      ]
    },
    {
      "cell_type": "code",
      "source": [
        "# Data contoh\n",
        "katalog_A = {\"Lukisan\", \"Boneka\", \"Kendi\", \"Patung\"}\n",
        "katalog_B = {\"Patung\", \"Boneka\", \"Prasasti\", \"Lukisan\"}\n",
        "produk_diskon = (\"Boneka\", \"Prasasti\", \"Surat\")\n",
        "\n",
        "# 1. Gabungkan katalog_A dan katalog_B ke dalam katalog_lengkap\n",
        "katalog_lengkap = katalog_A.union(katalog_B)\n",
        "\n",
        "# 2. Cari produk yang ada di katalog_lengkap dan juga ada di produk_diskon\n",
        "produk_promo_aktif = katalog_lengkap.intersection(produk_diskon)\n",
        "\n",
        "# Tampilkan hasil\n",
        "print(\"Katalog A:\", katalog_A)\n",
        "print(\"Katalog B:\", katalog_B)\n",
        "print(\"Produk Diskon:\", produk_diskon)\n",
        "print(\"\\nKatalog Lengkap:\", katalog_lengkap)\n",
        "print(\"Produk Promo Aktif:\", produk_promo_aktif)"
      ],
      "metadata": {
        "colab": {
          "base_uri": "https://localhost:8080/"
        },
        "id": "8fCBgBiCYgUx",
        "outputId": "ddad00ae-2b55-4d49-d0da-b0a8331a2794"
      },
      "execution_count": 10,
      "outputs": [
        {
          "output_type": "stream",
          "name": "stdout",
          "text": [
            "Katalog A: {'Lukisan', 'Kendi', 'Boneka', 'Patung'}\n",
            "Katalog B: {'Lukisan', 'Prasasti', 'Boneka', 'Patung'}\n",
            "Produk Diskon: ('Boneka', 'Prasasti', 'Surat')\n",
            "\n",
            "Katalog Lengkap: {'Prasasti', 'Boneka', 'Lukisan', 'Kendi', 'Patung'}\n",
            "Produk Promo Aktif: {'Prasasti', 'Boneka'}\n"
          ]
        }
      ]
    }
  ],
  "metadata": {
    "colab": {
      "toc_visible": true,
      "provenance": [],
      "authorship_tag": "ABX9TyOYrdA0WL1sS2Dd4TIa4Z7R",
      "include_colab_link": true
    },
    "kernelspec": {
      "display_name": "Python 3",
      "name": "python3"
    },
    "language_info": {
      "name": "python"
    }
  },
  "nbformat": 4,
  "nbformat_minor": 0
}