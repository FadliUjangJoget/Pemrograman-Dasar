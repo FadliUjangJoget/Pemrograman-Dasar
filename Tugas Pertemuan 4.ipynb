{
  "cells": [
    {
      "cell_type": "markdown",
      "metadata": {
        "id": "view-in-github",
        "colab_type": "text"
      },
      "source": [
        "<a href=\"https://colab.research.google.com/github/FadliUjangJoget/Pemrograman-Dasar/blob/main/Tugas%20Pertemuan%204.ipynb\" target=\"_parent\"><img src=\"https://colab.research.google.com/assets/colab-badge.svg\" alt=\"Open In Colab\"/></a>"
      ]
    },
    {
      "cell_type": "code",
      "source": [
        "print(\"=\"*30)\n",
        "print(\"SELAMAT DATANG DI KAFE GEMINI\")\n",
        "print(\"Menu Makanan & Minuman:\")\n",
        "print(\"1. Kopi Hitam  = Rp 12.000\")\n",
        "print(\"2. Roti Manis  = Rp 8.000\")\n",
        "print(\"3. Roti Bakar  = Rp 15.000\")\n",
        "print(\"4. Mie Instan  = Rp 10.000\")\n",
        "print(\"=\"*30)\n",
        "\n",
        "pilihan_str = input(\"Silakan masukkan nomor pilihan Anda (1-4): \")\n",
        "pilihan = int(pilihan_str)\n",
        "nama_pesanan = \"\"\n",
        "harga = 0\n",
        "\n",
        "if pilihan == 1:\n",
        "    nama_pesanan = \"Kopi Hitam\"\n",
        "    harga = 12000\n",
        "elif pilihan == 2:\n",
        "    nama_pesanan = \"Roti Manis\"\n",
        "    harga = 8000\n",
        "elif pilihan == 3:\n",
        "    nama_pesanan = \"Roti Bakar\"\n",
        "    harga = 15000\n",
        "elif pilihan == 4:\n",
        "    nama_pesanan = \"Mie Instan\"\n",
        "    harga = 10000\n",
        "else:\n",
        "    print(\"Maaf, pilihan menu tidak valid. Silakan jalankan ulang program.\")\n",
        "    exit()\n",
        "\n",
        "# Logika Diskon\n",
        "diskon = 0\n",
        "if harga >= 15000:\n",
        "    diskon = 0.70   # 70%\n",
        "elif harga >= 10000:\n",
        "    diskon = 0.50   # 50%\n",
        "elif harga > 0:\n",
        "    diskon = 0.30   # 30%\n",
        "\n",
        "# Hitung total harga setelah diskon\n",
        "potongan = harga * diskon\n",
        "total_bayar = harga - potongan\n",
        "\n",
        "print(f\"Pesanan Anda: {nama_pesanan}\")\n",
        "print(f\"Harga Awal  : Rp {harga}\")\n",
        "print(f\"Diskon ({int(diskon*100)}%) : Rp {int(potongan)}\")\n",
        "print(f\"Total Bayar : Rp {int(total_bayar)}\")\n",
        "\n",
        "# Proses Pembayaran\n",
        "uang_str = input(\"Total yang harus dibayar. Masukkan jumlah uang Anda: Rp \")\n",
        "uang = int(uang_str)\n",
        "\n",
        "if uang >= total_bayar:\n",
        "    kembalian = uang - total_bayar\n",
        "    print(f\"Uang Anda    : Rp {uang}\")\n",
        "    print(f\"Kembalian    : Rp {int(kembalian)}\")\n",
        "    print(\"Terima kasih telah berbelanja!\")\n",
        "else:\n",
        "    kekurangan = total_bayar - uang\n",
        "    print(f\"Uang Anda kurang sebesar Rp {int(kekurangan)}\")\n",
        "    print(\"Silakan bayar sesuai total belanja.\")\n",
        "\n",
        "print(\"=\"*30)\n"
      ],
      "metadata": {
        "colab": {
          "base_uri": "https://localhost:8080/"
        },
        "id": "uoxDbZZHeRaw",
        "outputId": "8e5f2cd4-26cc-4da6-d7a3-540209a25d54"
      },
      "execution_count": 13,
      "outputs": [
        {
          "output_type": "stream",
          "name": "stdout",
          "text": [
            "==============================\n",
            "SELAMAT DATANG DI KAFE GEMINI\n",
            "Menu Makanan & Minuman:\n",
            "1. Kopi Hitam  = Rp 12.000\n",
            "2. Roti Manis  = Rp 8.000\n",
            "3. Roti Bakar  = Rp 15.000\n",
            "4. Mie Instan  = Rp 10.000\n",
            "==============================\n",
            "Silakan masukkan nomor pilihan Anda (1-4): 3\n",
            "Pesanan Anda: Roti Bakar\n",
            "Harga Awal  : Rp 15000\n",
            "Diskon (70%) : Rp 10500\n",
            "Total Bayar : Rp 4500\n",
            "Total yang harus dibayar. Masukkan jumlah uang Anda: Rp 20000\n",
            "Uang Anda    : Rp 20000\n",
            "Kembalian    : Rp 15500\n",
            "Terima kasih telah berbelanja!\n",
            "==============================\n"
          ]
        }
      ]
    }
  ],
  "metadata": {
    "colab": {
      "toc_visible": true,
      "provenance": [],
      "authorship_tag": "ABX9TyPnlfZGHtoqzGRpPgm5sqro",
      "include_colab_link": true
    },
    "kernelspec": {
      "display_name": "Python 3",
      "name": "python3"
    },
    "language_info": {
      "name": "python"
    }
  },
  "nbformat": 4,
  "nbformat_minor": 0
}