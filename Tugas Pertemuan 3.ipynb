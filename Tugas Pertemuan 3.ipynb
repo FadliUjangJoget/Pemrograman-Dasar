{
  "cells": [
    {
      "cell_type": "markdown",
      "metadata": {
        "id": "view-in-github",
        "colab_type": "text"
      },
      "source": [
        "<a href=\"https://colab.research.google.com/github/FadliUjangJoget/Pemrograman-Dasar/blob/main/Tugas%20Pertemuan%203.ipynb\" target=\"_parent\"><img src=\"https://colab.research.google.com/assets/colab-badge.svg\" alt=\"Open In Colab\"/></a>"
      ]
    },
    {
      "cell_type": "code",
      "source": [
        "# Fungsi untuk menentukan apakah tahun kabisat\n",
        "def cek_kabisat(tahun):\n",
        "    if (tahun % 5 == 0 and tahun % 100 != 0) or (tahun % 400 == 0):\n",
        "        return True\n",
        "    else:\n",
        "        return False\n",
        "\n",
        "# Fungsi input\n",
        "tahun = int(input(\"Masukkan tahun: \"))\n",
        "\n",
        "# Operasi aritmatika + logika dilakukan dalam fungsi cek_kabisat\n",
        "\n",
        "# Fungsi output\n",
        "if cek_kabisat(tahun):\n",
        "    print(tahun, \"adalah tahun kabisat\")\n",
        "else:\n",
        "    print(tahun, \"bukan tahun kabisat\")"
      ],
      "metadata": {
        "colab": {
          "base_uri": "https://localhost:8080/"
        },
        "id": "43COeyKNc8LI",
        "outputId": "ce59eea0-0e8d-472d-faf0-8e1f7ed850b3"
      },
      "execution_count": 22,
      "outputs": [
        {
          "output_type": "stream",
          "name": "stdout",
          "text": [
            "Masukkan tahun: 2025\n",
            "2025 adalah tahun kabisat\n"
          ]
        }
      ]
    },
    {
      "cell_type": "code",
      "source": [
        "# Program Kasir Sederhana\n",
        "\n",
        "# Input harga item yang dibeli\n",
        "item1 = int(input(\"Masukkan harga item 1: \"))\n",
        "item2 = int(input(\"Masukkan harga item 2: \"))\n",
        "item3 = int(input(\"Masukkan harga item 3: \"))\n",
        "\n",
        "# Input status member\n",
        "member = input(\"Apakah pelanggan member? (ya/tidak): \").lower()\n",
        "\n",
        "# 1. Hitung Subtotal\n",
        "subtotal = item1 + item2 + item3\n",
        "\n",
        "# 2. Evaluasi syarat diskon (member dan subtotal > 100000)\n",
        "berhak_diskon = (member == \"ya\") and (subtotal > 100000)\n",
        "\n",
        "# 3. Hitung jumlah diskon\n",
        "if berhak_diskon:\n",
        "    diskon = 0.15 * subtotal   # diskon 15%\n",
        "else:\n",
        "    diskon = 0\n",
        "\n",
        "# 4. Hitung harga setelah diskon\n",
        "harga_setelah_diskon = subtotal - diskon\n",
        "\n",
        "# 5. Hitung PPN (11% dari harga setelah diskon)\n",
        "ppn = 0.11 * harga_setelah_diskon\n",
        "\n",
        "# 6. Hitung total akhir\n",
        "total_akhir = harga_setelah_diskon + ppn\n",
        "\n",
        "# Output\n",
        "print(\"\\n=== STRUK PEMBELIAN ===\")\n",
        "print(f\"Subtotal              : Rp{subtotal}\")\n",
        "print(f\"Diskon                : Rp{diskon}\")\n",
        "print(f\"Harga setelah diskon  : Rp{harga_setelah_diskon}\")\n",
        "print(f\"PPN (11%)             : Rp{ppn}\")\n",
        "print(f\"Total yang harus dibayar: Rp{total_akhir}\")"
      ],
      "metadata": {
        "colab": {
          "base_uri": "https://localhost:8080/"
        },
        "id": "VMjEUHgJdGD7",
        "outputId": "658e8c8f-6331-48e0-f202-eaf922247c3c"
      },
      "execution_count": 23,
      "outputs": [
        {
          "output_type": "stream",
          "name": "stdout",
          "text": [
            "Masukkan harga item 1: 11000\n",
            "Masukkan harga item 2: 21000\n",
            "Masukkan harga item 3: 31000\n",
            "Apakah pelanggan member? (ya/tidak): ya\n",
            "\n",
            "=== STRUK PEMBELIAN ===\n",
            "Subtotal              : Rp63000\n",
            "Diskon                : Rp0\n",
            "Harga setelah diskon  : Rp63000\n",
            "PPN (11%)             : Rp6930.0\n",
            "Total yang harus dibayar: Rp69930.0\n"
          ]
        }
      ]
    }
  ],
  "metadata": {
    "colab": {
      "toc_visible": true,
      "provenance": [],
      "authorship_tag": "ABX9TyOzXfkvi5wfzzX7EbaZRXK9",
      "include_colab_link": true
    },
    "kernelspec": {
      "display_name": "Python 3",
      "name": "python3"
    },
    "language_info": {
      "name": "python"
    }
  },
  "nbformat": 4,
  "nbformat_minor": 0
}