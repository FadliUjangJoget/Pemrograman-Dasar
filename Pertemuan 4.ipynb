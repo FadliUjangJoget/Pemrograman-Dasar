{
  "cells": [
    {
      "cell_type": "markdown",
      "metadata": {
        "id": "view-in-github",
        "colab_type": "text"
      },
      "source": [
        "<a href=\"https://colab.research.google.com/github/FadliUjangJoget/Pemrograman-Dasar/blob/main/Pertemuan%204.ipynb\" target=\"_parent\"><img src=\"https://colab.research.google.com/assets/colab-badge.svg\" alt=\"Open In Colab\"/></a>"
      ]
    },
    {
      "cell_type": "code",
      "source": [
        "# Variable untuk menyimpan umur pengunjung\n",
        "umur: int = 20\n",
        "\n",
        "# Program hanya akan mencetak pesan jika umur diatas 17\n",
        "if umur > 17:\n",
        "  print(\"Pengunjung adalah orang dewasa.\")"
      ],
      "metadata": {
        "colab": {
          "base_uri": "https://localhost:8080/"
        },
        "id": "ssfLUScFHs4E",
        "outputId": "733764ee-04d1-418b-d64d-bf4ac448c6f3"
      },
      "execution_count": null,
      "outputs": [
        {
          "output_type": "stream",
          "name": "stdout",
          "text": [
            "Pengunjung adalah orang dewasa.\n"
          ]
        }
      ]
    },
    {
      "cell_type": "code",
      "source": [
        "username = input(\"Masukkan username: \")\n",
        "password = input(\"Masukkan password: \")\n",
        "\n",
        "if username == \"ujang\" and password == \"1234\":\n",
        "    print(\"login berhasil\")\n",
        "else:\n",
        "    print(\"login gagal\")"
      ],
      "metadata": {
        "colab": {
          "base_uri": "https://localhost:8080/"
        },
        "id": "EedctLnsJXkj",
        "outputId": "34fa8c8d-4f41-43bf-d5b3-1a790a612e84"
      },
      "execution_count": null,
      "outputs": [
        {
          "output_type": "stream",
          "name": "stdout",
          "text": [
            "Masukkan username: ujang\n",
            "Masukkan password: 1234\n",
            "login berhasil\n"
          ]
        }
      ]
    },
    {
      "cell_type": "code",
      "source": [
        "# program untuk mengecek bonus dan diskon\n",
        "total_belanja = input(\"Total belanja\")\n",
        "# jumlah yang harus dibayar adalah berapa total belanjaannya\n",
        "# tapi kalau dapat diskon akan berkurang\n",
        "bayar = int(total_belanja)\n",
        "# jika dia belanja diatas 100rb maka berikan bonus dan diskon\n",
        "if int(total_belanja) > 100000:\n",
        "  print(\"Selamat kaerna belanja > Rp. 100.000 anad mendapat voucher makan\")\n",
        "  print(\"dan diskon 5%\")\n",
        "# hitung diskonnya\n",
        "diskon = int(total_belanja) * 5/100 #5%\n",
        "bayar = int(total_belanja) - diskon\n",
        "# cetak struk\n",
        "print(\"Total yang harus dibayar: Rp %s\" % bayar)\n",
        "print(\"Terimakasih sudah berbelanja di Toko Kami\")\n",
        "print(\"Kami tunggu kunjungan anda selanjutnya.\")"
      ],
      "metadata": {
        "colab": {
          "base_uri": "https://localhost:8080/"
        },
        "id": "xR6c7oiQKvGj",
        "outputId": "31ed67ce-3de6-4a09-d2ff-faa9dac365d9"
      },
      "execution_count": 1,
      "outputs": [
        {
          "output_type": "stream",
          "name": "stdout",
          "text": [
            "Total belanja100000\n",
            "Total yang harus dibayar: Rp 95000.0\n",
            "Terimakasih sudah berbelanja di Toko Kami\n",
            "Kami tunggu kunjungan anda selanjutnya.\n"
          ]
        }
      ]
    },
    {
      "cell_type": "code",
      "source": [
        "# Variable untuk memeriksa apakah ada notifikasi baru\n",
        "ada_notifikasi_baru: bool = True\n",
        "if ada_notifikasi_baru:\n",
        "  print(\"anda memiliki pesan baru!\")"
      ],
      "metadata": {
        "id": "Xcqr17VNL6Pd",
        "colab": {
          "base_uri": "https://localhost:8080/"
        },
        "outputId": "bf3b800b-61fa-48b5-b38e-9b9d57a7a800"
      },
      "execution_count": 2,
      "outputs": [
        {
          "output_type": "stream",
          "name": "stdout",
          "text": [
            "anda memiliki pesan baru!\n"
          ]
        }
      ]
    },
    {
      "cell_type": "code",
      "source": [
        "umur = input(\"Berapa umur kamu: \")\n",
        "if int(umur) >= 18:\n",
        "  print(\"Kamu boleh membuat SIM\")\n",
        "else:\n",
        "  print(\"Kamu belum boleh membuat SIM\")"
      ],
      "metadata": {
        "colab": {
          "base_uri": "https://localhost:8080/"
        },
        "id": "ayPxIRThH2hd",
        "outputId": "1f7764f3-ffd2-4965-84c6-cc9e70328e9e"
      },
      "execution_count": 3,
      "outputs": [
        {
          "output_type": "stream",
          "name": "stdout",
          "text": [
            "Berapa umur kamu: 17\n",
            "Kamu belum boleh membuat SIM\n"
          ]
        }
      ]
    },
    {
      "cell_type": "code",
      "source": [
        "total_belanja = 50000\n",
        "\n",
        "if total_belanja > 20000:\n",
        "  diskon = total_belanja * 0.10\n",
        "  total_bayar = total_belanja - diskon\n",
        "  print(f\"Anda mendapat diskon! Total belanja: Rp {total_bayar}\")\n",
        "else:\n",
        "  print(f\"Total_bayar: Rp {total_belanja}\")\n"
      ],
      "metadata": {
        "colab": {
          "base_uri": "https://localhost:8080/"
        },
        "id": "eht62I9bIs0_",
        "outputId": "a0c0368c-4f39-471c-8319-6ad778db8d23"
      },
      "execution_count": 6,
      "outputs": [
        {
          "output_type": "stream",
          "name": "stdout",
          "text": [
            "Anda mendapat diskon! Total belanja: Rp 45000.0\n"
          ]
        }
      ]
    },
    {
      "cell_type": "code",
      "source": [
        "angka =int(input(\"Masukkan bilangan: \"))\n",
        "\n",
        "if angka % 2 == 0:\n",
        "  print(\"Bilangan genap\")\n",
        "else:\n",
        "  print(\"Bilangan ganjil\")"
      ],
      "metadata": {
        "colab": {
          "base_uri": "https://localhost:8080/"
        },
        "id": "SDVKRLKhKX1V",
        "outputId": "0d36ca14-f01e-4bea-afff-1841265d8dff"
      },
      "execution_count": 7,
      "outputs": [
        {
          "output_type": "stream",
          "name": "stdout",
          "text": [
            "Masukkan bilangan: 7\n",
            "Bilangan ganjil\n"
          ]
        }
      ]
    },
    {
      "cell_type": "code",
      "source": [
        "nilai = 80\n",
        "if nilai >= 85:\n",
        " print(\"Luar biasa! Nilai A\")\n",
        "elif nilai >= 70:\n",
        " print(\"Bagus! Nilai B\")\n",
        "elif nilai >= 60:\n",
        " print(\"Cukup, Nilai C\")\n",
        "else:\n",
        "  print(\"Nilai kurang, perlu belajar lebiih giat.\")\n"
      ],
      "metadata": {
        "colab": {
          "base_uri": "https://localhost:8080/"
        },
        "id": "Gc5AI62MLIA2",
        "outputId": "d6e0b5e1-bcf6-407d-d584-ee57e6bd876f"
      },
      "execution_count": 8,
      "outputs": [
        {
          "output_type": "stream",
          "name": "stdout",
          "text": [
            "Bagus! Nilai B\n"
          ]
        }
      ]
    },
    {
      "cell_type": "code",
      "source": [
        "# menentukan jenis diskon berdasarkan hari\n",
        "hari: str = \"Sabtu\"\n",
        "\n",
        "if hari == \"Sabtu\" or hari == \"Minggu\":\n",
        " diskon: float = 0.20 # diskon 20%\n",
        " print(f\"Selamat! Anda mendapat diskon akhir pekan sebesar {diskon*100}%.\")\n",
        "elif hari == \"Jumat\":\n",
        " diskon: float = 0.15 # diskon 15%\n",
        " priint(f\"Dsikon spesial jumat! Anda mendapat potonga {diskon*100}%.\")\n",
        "else:\n",
        "  diskon: float = 0.05 # diskon 5%\n",
        "  print(f\"Anda mendapat diskon hari biasa sebesar {diskon*100}%.\")"
      ],
      "metadata": {
        "colab": {
          "base_uri": "https://localhost:8080/"
        },
        "id": "DRsP_5gpQ3Xp",
        "outputId": "f482c9e3-b9d7-406b-efc3-af8cfdd654d0"
      },
      "execution_count": 10,
      "outputs": [
        {
          "output_type": "stream",
          "name": "stdout",
          "text": [
            "Selamat! Anda mendapat diskon akhir pekan sebesar 20.0%.\n"
          ]
        }
      ]
    },
    {
      "cell_type": "code",
      "source": [
        "rupiah = int(input(\"Masukkan jumlah uang(Rp)\"))\n",
        "print(\"1. Dollar (USD)\")\n",
        "print(\"2. Euro (EUR)\")\n",
        "print(\"3. Yen (JPY)\")\n",
        "pilih = int(input(\"pilih koversi (1/2/3): \"))\n",
        "\n",
        "if pilih == 1:\n",
        "  print(\"Dalam Dollar:\", rupiah / 15000)\n",
        "elif pilih == 2:\n",
        "  print(\"Dalam Euro:\", rupiah / 16000)\n",
        "elif pilih == 3:\n",
        "  print(\"Dalam Yen:\", rupiah / 120)\n",
        "else:\n",
        "  print(\"Pilihan tidak valid\")"
      ],
      "metadata": {
        "colab": {
          "base_uri": "https://localhost:8080/"
        },
        "id": "mLtowJZ5S1WA",
        "outputId": "2246efe2-78a2-44d9-d206-4d791a56acbc"
      },
      "execution_count": 14,
      "outputs": [
        {
          "output_type": "stream",
          "name": "stdout",
          "text": [
            "Masukkan jumlah uang(Rp)30000\n",
            "1. Dollar (USD)\n",
            "2. Euro (EUR)\n",
            "3. Yen (JPY)\n",
            "pilih koversi (1/2/3): 1\n",
            "Dalam Dollar: 2.0\n"
          ]
        }
      ]
    }
  ],
  "metadata": {
    "colab": {
      "toc_visible": true,
      "provenance": [],
      "authorship_tag": "ABX9TyMIv9O3kudXO8OpTBtiGEoy",
      "include_colab_link": true
    },
    "kernelspec": {
      "display_name": "Python 3",
      "name": "python3"
    },
    "language_info": {
      "name": "python"
    }
  },
  "nbformat": 4,
  "nbformat_minor": 0
}