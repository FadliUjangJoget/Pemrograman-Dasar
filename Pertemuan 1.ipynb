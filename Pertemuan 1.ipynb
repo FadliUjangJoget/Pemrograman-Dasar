{
  "nbformat": 4,
  "nbformat_minor": 0,
  "metadata": {
    "colab": {
      "provenance": [],
      "authorship_tag": "ABX9TyNnmWU9lB38YLbUe6nfO8rS",
      "include_colab_link": true
    },
    "kernelspec": {
      "name": "python3",
      "display_name": "Python 3"
    },
    "language_info": {
      "name": "python"
    }
  },
  "cells": [
    {
      "cell_type": "markdown",
      "metadata": {
        "id": "view-in-github",
        "colab_type": "text"
      },
      "source": [
        "<a href=\"https://colab.research.google.com/github/FadliUjangJoget/Pemrograman-Dasar/blob/main/Pertemuan%201.ipynb\" target=\"_parent\"><img src=\"https://colab.research.google.com/assets/colab-badge.svg\" alt=\"Open In Colab\"/></a>"
      ]
    },
    {
      "cell_type": "code",
      "execution_count": null,
      "metadata": {
        "id": "npNiujGi9U2u"
      },
      "outputs": [],
      "source": [
        "# Biodata Saya\n",
        "\n",
        "nama = \"Muhammad Zaidan Fadli\"\n",
        "umur = 20\n",
        "jurusan = \"RPE\"\n",
        "Semester = 3\n",
        "Matakuliah = \"Pemrograman Dasar\"\n",
        "Status_lulus = False\n",
        "\n",
        "\"\"\"\n",
        "print (nama)\n",
        "print (umur)\n",
        "print (jurusan)\n",
        "print (semester)\n",
        "print (matakuliah)\n",
        "print (status_lulus)\n",
        "\"\"\""
      ]
    }
  ]
}